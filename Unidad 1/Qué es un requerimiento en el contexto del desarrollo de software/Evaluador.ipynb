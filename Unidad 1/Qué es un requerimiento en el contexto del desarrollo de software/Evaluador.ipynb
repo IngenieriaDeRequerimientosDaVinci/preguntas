{
  "cells": [
    {
      "cell_type": "markdown",
      "metadata": {
        "colab_type": "text",
        "id": "view-in-github"
      },
      "source": [
        "<a href=\"https://colab.research.google.com/github/IngenieriaDeRequerimientosDaVinci/Clases/blob/main/Evaluador.ipynb\" target=\"_parent\"><img src=\"https://colab.research.google.com/assets/colab-badge.svg\" alt=\"Open In Colab\"/></a>"
      ]
    },
    {
      "cell_type": "code",
      "execution_count": null,
      "metadata": {
        "id": "Bpo34Nsg4AXC"
      },
      "outputs": [],
      "source": [
        "!pip install -q -U google-generativeai"
      ]
    },
    {
      "cell_type": "code",
      "execution_count": null,
      "metadata": {
        "id": "K1ntEQzp4IsA"
      },
      "outputs": [],
      "source": [
        "# @title Code\n",
        "import pathlib\n",
        "import textwrap\n",
        "import google.generativeai as genai\n",
        "# Used to securely store your API key\n",
        "from google.colab import userdata\n",
        "from IPython.display import display\n",
        "from IPython.display import Markdown\n",
        "\n",
        "GOOGLE_API_KEY=userdata.get('GOOGLE_API_KEY')\n",
        "genai.configure(api_key=GOOGLE_API_KEY)\n",
        "#model = genai.GenerativeModel('gemini-pro')\n",
        "generation_config = {\n",
        "  \"temperature\": 0,\n",
        "  \"top_p\": 1,\n",
        "  \"top_k\": 1,\n",
        "  \"max_output_tokens\": 2048,\n",
        "}\n",
        "\n",
        "safety_settings = [\n",
        "  {\n",
        "    \"category\": \"HARM_CATEGORY_HARASSMENT\",\n",
        "    \"threshold\": \"BLOCK_MEDIUM_AND_ABOVE\"\n",
        "  },\n",
        "  {\n",
        "    \"category\": \"HARM_CATEGORY_HATE_SPEECH\",\n",
        "    \"threshold\": \"BLOCK_MEDIUM_AND_ABOVE\"\n",
        "  },\n",
        "  {\n",
        "    \"category\": \"HARM_CATEGORY_SEXUALLY_EXPLICIT\",\n",
        "    \"threshold\": \"BLOCK_MEDIUM_AND_ABOVE\"\n",
        "  },\n",
        "  {\n",
        "    \"category\": \"HARM_CATEGORY_DANGEROUS_CONTENT\",\n",
        "    \"threshold\": \"BLOCK_MEDIUM_AND_ABOVE\"\n",
        "  },\n",
        "]\n",
        "\n",
        "model = genai.GenerativeModel(model_name=\"gemini-pro\",\n",
        "                              generation_config=generation_config,\n",
        "                              safety_settings=safety_settings)\n",
        "def qna(p,ru,r):\n",
        "  template =\"\"\"Sobre esta pregunta: {{\"\"\" + p + \"\"\"}}\n",
        "  Evalua la respuesta: {{\"\"\" + r + \"\"\"}} considerando esta rubrica\n",
        "  {{\"\"\"+ru+\"\"\"}}. Desglozar la calificación paso a paso.\n",
        "  Y despues de la evaluación responde con un feedback sobre la respuesta,\n",
        "  agregando lo que consideres que tambien deberia saber sobre la pregunta.\n",
        "  Finalmente evalualo de 1 a 10\n",
        "  \"\"\"\n",
        "  text = model.generate_content(template).text\n",
        "  text = text.replace('•', '  *')\n",
        "  display(Markdown(textwrap.indent(text, '> ', predicate=lambda _: True)))"
      ]
    },
    {
      "cell_type": "code",
      "execution_count": null,
      "metadata": {
        "id": "XteF-1_z4uXw"
      },
      "outputs": [],
      "source": [
        "qna(\"\"\"\n",
        "¿Qué es un requerimiento en el contexto del desarrollo de software?\n",
        "\"\"\",\"\"\"\n",
        "Claridad de Definición (30 puntos): La respuesta debe ofrecer una definición clara y precisa de lo que es un requerimiento en el desarrollo de software.\n",
        "\n",
        "Profundidad de Comprensión (30 puntos): La respuesta debe mostrar una comprensión profunda de la importancia y función de los requerimientos en el proceso de desarrollo de software.\n",
        "\n",
        "Ejemplos y Contexto (20 puntos): Debería incluir ejemplos concretos o situaciones en las que los requerimientos son cruciales en el desarrollo de software.\n",
        "\n",
        "Organización (10 puntos): La respuesta debe estar bien organizada, con una introducción, desarrollo y conclusión.\n",
        "\n",
        "Terminología y Lenguaje (10 puntos): La respuesta debe utilizar terminología adecuada y un lenguaje claro y preciso relacionado con el desarrollo de software.\n",
        "\"\"\",\"\"\"\n",
        "RESPUESTA:\n",
        "\n",
        "\"\"\")"
      ]
    }
  ],
  "metadata": {
    "colab": {
      "authorship_tag": "ABX9TyPEP5Q9S8afTYVoWl6RJMVX",
      "include_colab_link": true,
      "private_outputs": true,
      "provenance": []
    },
    "kernelspec": {
      "display_name": "Python 3",
      "name": "python3"
    },
    "language_info": {
      "name": "python"
    }
  },
  "nbformat": 4,
  "nbformat_minor": 0
}
