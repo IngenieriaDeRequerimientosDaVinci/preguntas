{
  "cells": [
    {
      "cell_type": "markdown",
      "metadata": {
        "colab_type": "text",
        "id": "view-in-github"
      },
      "source": [
        "<a href=\"https://colab.research.google.com/github/IngenieriaDeRequerimientosDaVinci/Clases/blob/main/Evaluador.ipynb\" target=\"_parent\"><img src=\"https://colab.research.google.com/assets/colab-badge.svg\" alt=\"Open In Colab\"/></a>"
      ]
    },
    {
      "cell_type": "code",
      "execution_count": null,
      "metadata": {
        "id": "Bpo34Nsg4AXC"
      },
      "outputs": [],
      "source": [
        "!pip install -q -U google-generativeai"
      ]
    },
    {
      "cell_type": "code",
      "execution_count": null,
      "metadata": {
        "id": "K1ntEQzp4IsA"
      },
      "outputs": [],
      "source": [
        "# @title Code\n",
        "import pathlib\n",
        "import textwrap\n",
        "import google.generativeai as genai\n",
        "# Used to securely store your API key\n",
        "from google.colab import userdata\n",
        "from IPython.display import display\n",
        "from IPython.display import Markdown\n",
        "\n",
        "GOOGLE_API_KEY=userdata.get('GOOGLE_API_KEY')\n",
        "genai.configure(api_key=GOOGLE_API_KEY)\n",
        "#model = genai.GenerativeModel('gemini-pro')\n",
        "generation_config = {\n",
        "  \"temperature\": 0,\n",
        "  \"top_p\": 1,\n",
        "  \"top_k\": 1,\n",
        "  \"max_output_tokens\": 2048,\n",
        "}\n",
        "\n",
        "safety_settings = [\n",
        "  {\n",
        "    \"category\": \"HARM_CATEGORY_HARASSMENT\",\n",
        "    \"threshold\": \"BLOCK_MEDIUM_AND_ABOVE\"\n",
        "  },\n",
        "  {\n",
        "    \"category\": \"HARM_CATEGORY_HATE_SPEECH\",\n",
        "    \"threshold\": \"BLOCK_MEDIUM_AND_ABOVE\"\n",
        "  },\n",
        "  {\n",
        "    \"category\": \"HARM_CATEGORY_SEXUALLY_EXPLICIT\",\n",
        "    \"threshold\": \"BLOCK_MEDIUM_AND_ABOVE\"\n",
        "  },\n",
        "  {\n",
        "    \"category\": \"HARM_CATEGORY_DANGEROUS_CONTENT\",\n",
        "    \"threshold\": \"BLOCK_MEDIUM_AND_ABOVE\"\n",
        "  },\n",
        "]\n",
        "\n",
        "model = genai.GenerativeModel(model_name=\"gemini-pro\",\n",
        "                              generation_config=generation_config,\n",
        "                              safety_settings=safety_settings)\n",
        "def qna(p,ru,r):\n",
        "  template =\"\"\"Sobre esta pregunta: {{\"\"\" + p + \"\"\"}}\n",
        "  Evalúa la respuesta: {{\"\"\" + r + \"\"\"}} considerando esta rubrica\n",
        "  {{\"\"\"+ru+\"\"\"}}. Desglosar la calificación paso a paso.\n",
        "  Y después de la evaluación responde con un feedback sobre la respuesta,\n",
        "  agregando lo que consideres que también debería saber sobre la pregunta.\n",
        "  Finalmente evaluarlo de 1 a 10\n",
        "  \"\"\"\n",
        "  text = model.generate_content(template).text\n",
        "  text = text.replace('•', '  *')\n",
        "  display(Markdown(textwrap.indent(text, '> ', predicate=lambda _: True)))"
      ]
    },
    {
      "cell_type": "code",
      "execution_count": null,
      "metadata": {
        "id": "XteF-1_z4uXw"
      },
      "outputs": [],
      "source": [
        "qna(\"\"\"\n",
        "¿Qué es la ingeniería de requerimientos y cuáles son sus etapas principales?\n",
        "\"\"\",\"\"\"\n",
        "Definición Clara (20 puntos): La respuesta debe ofrecer una definición clara y concisa de la ingeniería de requerimientos en el contexto del desarrollo de software.\n",
        "\n",
        "Etapas Principales (30 puntos): Debe identificar y explicar las etapas principales del proceso de ingeniería de requerimientos.\n",
        "\n",
        "Profundidad de Explicación (30 puntos): La respuesta debe proporcionar una explicación detallada de cada etapa, su importancia y su secuencia lógica.\n",
        "\n",
        "Ejemplos (10 puntos): Sería beneficioso incluir ejemplos o situaciones en las que se aplican estas etapas.\n",
        "\n",
        "Organización (10 puntos): La respuesta debe estar bien estructurada, con una introducción, desarrollo y conclusión.\n",
        "\"\"\",\"\"\"\n",
        "RESPUESTA:\n",
        "\n",
        "\"\"\")"
      ]
    }
  ],
  "metadata": {
    "colab": {
      "authorship_tag": "ABX9TyPEP5Q9S8afTYVoWl6RJMVX",
      "include_colab_link": true,
      "private_outputs": true,
      "provenance": []
    },
    "kernelspec": {
      "display_name": "Python 3",
      "name": "python3"
    },
    "language_info": {
      "name": "python"
    }
  },
  "nbformat": 4,
  "nbformat_minor": 0
}
